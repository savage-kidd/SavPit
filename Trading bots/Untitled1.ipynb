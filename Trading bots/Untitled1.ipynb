{
 "cells": [
  {
   "cell_type": "code",
   "execution_count": 9,
   "id": "737b5da7",
   "metadata": {},
   "outputs": [
    {
     "name": "stdout",
     "output_type": "stream",
     "text": [
      "Defaulting to user installation because normal site-packages is not writeable\n",
      "Requirement already satisfied: requests in c:\\programdata\\anaconda3\\lib\\site-packages (2.31.0)\n",
      "Requirement already satisfied: charset-normalizer<4,>=2 in c:\\programdata\\anaconda3\\lib\\site-packages (from requests) (2.0.4)\n",
      "Requirement already satisfied: idna<4,>=2.5 in c:\\programdata\\anaconda3\\lib\\site-packages (from requests) (3.4)\n",
      "Requirement already satisfied: urllib3<3,>=1.21.1 in c:\\programdata\\anaconda3\\lib\\site-packages (from requests) (1.26.16)\n",
      "Requirement already satisfied: certifi>=2017.4.17 in c:\\programdata\\anaconda3\\lib\\site-packages (from requests) (2024.2.2)\n",
      "Note: you may need to restart the kernel to use updated packages.\n"
     ]
    }
   ],
   "source": [
    "pip install requests"
   ]
  },
  {
   "cell_type": "code",
   "execution_count": 12,
   "id": "21174e83",
   "metadata": {},
   "outputs": [
    {
     "name": "stdout",
     "output_type": "stream",
     "text": [
      "{\"id\":\"017a6ca6-8496-48e4-8bd5-e0763f9aca72\",\"admin_configurations\":{},\"user_configurations\":null,\"account_number\":\"PA39Q9KMSCTV\",\"status\":\"ACTIVE\",\"crypto_status\":\"ACTIVE\",\"options_approved_level\":2,\"options_trading_level\":2,\"currency\":\"USD\",\"buying_power\":\"96379.32\",\"regt_buying_power\":\"96379.32\",\"daytrading_buying_power\":\"0\",\"effective_buying_power\":\"96379.32\",\"non_marginable_buying_power\":\"48189.66\",\"options_buying_power\":\"0\",\"bod_dtbp\":\"0\",\"cash\":\"100000\",\"accrued_fees\":\"0\",\"pending_transfer_in\":\"0\",\"portfolio_value\":\"100000\",\"pattern_day_trader\":false,\"trading_blocked\":false,\"transfers_blocked\":false,\"account_blocked\":false,\"created_at\":\"2024-04-17T10:41:33.577749Z\",\"trade_suspended_by_user\":false,\"multiplier\":\"2\",\"shorting_enabled\":true,\"equity\":\"100000\",\"last_equity\":\"100000\",\"long_market_value\":\"0\",\"short_market_value\":\"0\",\"position_market_value\":\"0\",\"initial_margin\":\"51810.34\",\"maintenance_margin\":\"0\",\"last_maintenance_margin\":\"0\",\"sma\":\"0\",\"daytrade_count\":0,\"balance_asof\":\"2024-04-16\",\"crypto_tier\":1}\n"
     ]
    }
   ],
   "source": [
    "import requests \n",
    "\n",
    "url = \"https://paper-api.alpaca.markets/v2/account\"\n",
    "\n",
    "headers = {\n",
    "    \"accept\": \"application/json\",\n",
    "    \"APCA-API-KEY-ID\": \"PKY5H7B2JHHIBAOVLBTP\",\n",
    "    \"APCA-API-SECRET-KEY\": \"YUc4Ov2IithCjb0a4zvD1XHesPio3uVLVyzmCrzX\"\n",
    "}\n",
    "\n",
    "response = requests.get(url, headers=headers)\n",
    "\n",
    "print(response.text)"
   ]
  },
  {
   "cell_type": "code",
   "execution_count": null,
   "id": "84fe35a5",
   "metadata": {},
   "outputs": [],
   "source": []
  },
  {
   "cell_type": "code",
   "execution_count": null,
   "id": "7e9b5916",
   "metadata": {},
   "outputs": [],
   "source": []
  }
 ],
 "metadata": {
  "kernelspec": {
   "display_name": "Python 3 (ipykernel)",
   "language": "python",
   "name": "python3"
  },
  "language_info": {
   "codemirror_mode": {
    "name": "ipython",
    "version": 3
   },
   "file_extension": ".py",
   "mimetype": "text/x-python",
   "name": "python",
   "nbconvert_exporter": "python",
   "pygments_lexer": "ipython3",
   "version": "3.11.5"
  }
 },
 "nbformat": 4,
 "nbformat_minor": 5
}
